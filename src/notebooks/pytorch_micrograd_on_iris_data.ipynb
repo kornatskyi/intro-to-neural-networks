{
 "cells": [
  {
   "cell_type": "code",
   "execution_count": 1,
   "metadata": {},
   "outputs": [],
   "source": [
    "import sys\n",
    "sys.path.append(\"../../\")\n",
    "\n"
   ]
  },
  {
   "cell_type": "code",
   "execution_count": 2,
   "metadata": {},
   "outputs": [],
   "source": [
    "import src\n",
    "from src import Value\n",
    "from src import MLP\n",
    "\n",
    "from IPython.display import clear_output"
   ]
  },
  {
   "cell_type": "code",
   "execution_count": 3,
   "metadata": {},
   "outputs": [],
   "source": [
    "import matplotlib.pyplot as plt\n",
    "from sklearn.datasets import load_iris\n",
    "import random\n",
    "import numpy as np\n",
    "%matplotlib inline "
   ]
  },
  {
   "cell_type": "code",
   "execution_count": 4,
   "metadata": {},
   "outputs": [],
   "source": [
    "random.seed(42)"
   ]
  },
  {
   "cell_type": "code",
   "execution_count": 5,
   "metadata": {},
   "outputs": [],
   "source": [
    "# prepare data\n",
    "\n",
    "iris = load_iris()\n",
    "\n",
    "\n",
    "def minmax_norm(data: list):\n",
    "    min_values = np.min(data, axis=0)\n",
    "    max_values = np.max(data, axis=0)\n",
    "    return (data - min_values) / (max_values - min_values)\n",
    "\n",
    "\n",
    "def zscore_norm(data):\n",
    "    return (data - np.mean(data)) / np.std(data)\n",
    "\n",
    "\n",
    "combined_data = list(\n",
    "    zip(zscore_norm(iris.data), minmax_norm(iris.target))\n",
    ")  # i score normalization\n",
    "\n",
    "random.shuffle(combined_data)\n",
    "shx, shy = zip(*combined_data)\n",
    "X, y = list([list(x) for x in shx]), list(shy)\n",
    "\n",
    "\n",
    "training_data_percent = 0.80\n",
    "training_size = int(len(X) * training_data_percent)\n",
    "testing_size = len(X) - training_size\n",
    "training_data_points, training_targets = X[:training_size], y[:training_size]\n",
    "testing_data_points, testing_targets = X[-testing_size:], y[-testing_size:]"
   ]
  },
  {
   "cell_type": "code",
   "execution_count": 6,
   "metadata": {},
   "outputs": [],
   "source": [
    "# Define a Model\n",
    "number_of_inputs = len(training_data_points[0])\n",
    "number_of_outputs_for_each_layer = [4, 4, 1]\n",
    "\n",
    "mlp = MLP(len(training_data_points[0]), number_of_outputs_for_each_layer)\n",
    "losses = []\n",
    "total_number_of_epochs = 0"
   ]
  },
  {
   "cell_type": "code",
   "execution_count": 7,
   "metadata": {},
   "outputs": [
    {
     "name": "stdout",
     "output_type": "stream",
     "text": [
      "Training: 100.0%\n"
     ]
    }
   ],
   "source": [
    "# Train a Model\n",
    "number_of_epochs = 100\n",
    "\n",
    "for epoch in range(number_of_epochs + 1):\n",
    "    clear_output()\n",
    "    print(f\"Training: {(epoch / number_of_epochs) * 100}%\")\n",
    "    # Forward pass\n",
    "    actual_ys = [mlp(x) for x in training_data_points]\n",
    "    loss: Value = sum((expected_y - actual_y)**2 for expected_y,\n",
    "                      actual_y in zip(training_targets, actual_ys))\n",
    "    # Collect all losses\n",
    "    losses.append(loss.data)\n",
    "    total_number_of_epochs +=1\n",
    "    # zero grad\n",
    "    for p in mlp.parameters():\n",
    "        p.grad = 0.0\n",
    "    # Backward pass\n",
    "    loss.backward()\n",
    "\n",
    "    for p in mlp.parameters():\n",
    "        p.data += -0.001 * p.grad\n",
    "        "
   ]
  },
  {
   "cell_type": "code",
   "execution_count": 8,
   "metadata": {},
   "outputs": [
    {
     "data": {
      "image/png": "[encoded data removed]",
      "text/plain": [
       "<Figure size 640x480 with 1 Axes>"
      ]
     },
     "metadata": {},
     "output_type": "display_data"
    }
   ],
   "source": [
    "plt.plot(range(total_number_of_epochs), losses)\n",
    "plt.xlabel('epochs')\n",
    "plt.ylabel('losses')\n",
    "plt.show()"
   ]
  },
  {
   "cell_type": "code",
   "execution_count": 9,
   "metadata": {},
   "outputs": [
    {
     "name": "stdout",
     "output_type": "stream",
     "text": [
      "#0 | Target: 1.0 | Actual: 1.0\n",
      "#1 | Target: 0.0 | Actual: 0.0\n",
      "#2 | Target: 0.5 | Actual: 1.0\n",
      "#3 | Target: 0.5 | Actual: 0.5\n",
      "#4 | Target: 0.0 | Actual: 0.0\n",
      "#5 | Target: 1.0 | Actual: 1.0\n",
      "#6 | Target: 0.5 | Actual: 0.5\n",
      "#7 | Target: 0.0 | Actual: 0.0\n",
      "#8 | Target: 0.5 | Actual: 0.5\n",
      "#9 | Target: 1.0 | Actual: 1.0\n",
      "#10 | Target: 0.5 | Actual: 0.5\n",
      "#11 | Target: 1.0 | Actual: 1.0\n",
      "#12 | Target: 0.5 | Actual: 1.0\n",
      "#13 | Target: 1.0 | Actual: 1.0\n",
      "#14 | Target: 1.0 | Actual: 1.0\n",
      "#15 | Target: 0.5 | Actual: 0.5\n",
      "#16 | Target: 0.5 | Actual: 0.5\n",
      "#17 | Target: 0.0 | Actual: 0.0\n",
      "#18 | Target: 0.0 | Actual: 0.0\n",
      "#19 | Target: 0.0 | Actual: 0.0\n",
      "#20 | Target: 1.0 | Actual: 1.0\n",
      "#21 | Target: 0.0 | Actual: 0.0\n",
      "#22 | Target: 1.0 | Actual: 1.0\n",
      "#23 | Target: 0.0 | Actual: 0.0\n",
      "#24 | Target: 0.0 | Actual: 0.0\n",
      "#25 | Target: 0.5 | Actual: 0.5\n",
      "#26 | Target: 0.5 | Actual: 0.5\n",
      "#27 | Target: 0.5 | Actual: 1.0\n",
      "#28 | Target: 0.0 | Actual: 0.0\n",
      "#29 | Target: 0.0 | Actual: 0.0\n",
      "Total accuracy: 90.0\n"
     ]
    }
   ],
   "source": [
    "# Test a Model\n",
    "def test(mlp: MLP, testing_data_points, testing_targets):\n",
    "    \"\"\"Test if model guess iris specie correctly\n",
    "    \"\"\"\n",
    "    results = [mlp(x) for x in testing_data_points]\n",
    "    \n",
    "    actual = [0.0 if abs(result.data) < 0.33 else 0.5 if abs(result.data) < 0.66 else 1.0 for result in results]\n",
    "    \n",
    "    accuracy = (sum([1 if actual[i] == testing_targets[i] else 0 for i in range(len(testing_targets)) ]) / len(testing_targets)) * 100 \n",
    "\n",
    "    for i, result in enumerate(results):\n",
    "        print(f\"#{i} | Target: {testing_targets[i]} | Actual: {actual[i]}\")\n",
    "    print(f\"Total accuracy: {accuracy}\")\n",
    "        \n",
    "test(mlp, testing_data_points, testing_targets)"
   ]
  }
 ],
 "metadata": {
  "kernelspec": {
   "display_name": ".venv",
   "language": "python",
   "name": "python3"
  },
  "language_info": {
   "codemirror_mode": {
    "name": "ipython",
    "version": 3
   },
   "file_extension": ".py",
   "mimetype": "text/x-python",
   "name": "python",
   "nbconvert_exporter": "python",
   "pygments_lexer": "ipython3",
   "version": "3.10.12"
  },
  "orig_nbformat": 4
 },
 "nbformat": 4,
 "nbformat_minor": 2
}
