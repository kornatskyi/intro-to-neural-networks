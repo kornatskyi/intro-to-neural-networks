{
 "cells": [
  {
   "cell_type": "code",
   "execution_count": 1,
   "metadata": {},
   "outputs": [],
   "source": [
    "import sys\n",
    "\n",
    "sys.path.append(\"../../\")"
   ]
  },
  {
   "cell_type": "code",
   "execution_count": 2,
   "metadata": {},
   "outputs": [],
   "source": [
    "%matplotlib inline \n",
    "\n",
    "from src import Value\n",
    "from src import draw_dot\n",
    "from src import MLP \n",
    "import random"
   ]
  },
  {
   "cell_type": "code",
   "execution_count": 3,
   "metadata": {},
   "outputs": [],
   "source": [
    "random.seed(42)"
   ]
  },
  {
   "cell_type": "code",
   "execution_count": 4,
   "metadata": {},
   "outputs": [],
   "source": [
    "xs = [\n",
    "    [2.0, 3.0, 1.0],\n",
    "    [-3.0, -1.0, 1.0],\n",
    "    [1.0, -1.0, 1.0],\n",
    "    [-2.0, -1.0,7.0]\n",
    "]\n",
    "\n",
    "expected_ys = [-1.0, -1.0, 1.0, -1.0]\n",
    "\n",
    "number_of_inputs = len(xs[0])\n",
    "number_of_outputs_for_each_layer = [4, 1]"
   ]
  },
  {
   "cell_type": "code",
   "execution_count": 5,
   "metadata": {},
   "outputs": [],
   "source": [
    "mlp = MLP(len(xs[0]), number_of_outputs_for_each_layer)"
   ]
  },
  {
   "cell_type": "code",
   "execution_count": 7,
   "metadata": {},
   "outputs": [
    {
     "name": "stdout",
     "output_type": "stream",
     "text": [
      "Epoch 0, Loss: Value(data=2.612307903667413, grad=1.0)\n",
      "Epoch 10, Loss: Value(data=0.2752789905612779, grad=1.0)\n",
      "Epoch 20, Loss: Value(data=0.028157185218375062, grad=1.0)\n",
      "Epoch 30, Loss: Value(data=0.002417673307353603, grad=1.0)\n",
      "Epoch 40, Loss: Value(data=0.0001917204951539932, grad=1.0)\n",
      "Epoch 50, Loss: Value(data=1.4810199960207857e-05, grad=1.0)\n",
      "Epoch 60, Loss: Value(data=1.1352823399196704e-06, grad=1.0)\n",
      "Epoch 70, Loss: Value(data=8.683591972307978e-08, grad=1.0)\n",
      "Epoch 80, Loss: Value(data=6.637902156908608e-09, grad=1.0)\n",
      "Epoch 90, Loss: Value(data=5.073283211031222e-10, grad=1.0)\n"
     ]
    }
   ],
   "source": [
    "number_of_epoch = 100\n",
    "for epoch in range(number_of_epoch):\n",
    "    # Forward pass\n",
    "    actual_ys = [mlp(x) for x in xs]\n",
    "    # print(\"actual: \", actual_ys)\n",
    "    loss: Value = sum((expected_y - actual_y)**2 for expected_y, actual_y in zip(expected_ys, actual_ys))\n",
    "    loss\n",
    "    # print(\"loss: \", loss)\n",
    "\n",
    "    # zero grad\n",
    "    for p in mlp.parameters():\n",
    "        p.grad = 0.0\n",
    "    # Backward pass\n",
    "    loss.backward()\n",
    "\n",
    "    # Correcting parameters\n",
    "    for p in mlp.parameters():\n",
    "        p.data += -0.01 * p.grad\n",
    "        \n",
    "    if epoch % 10 == 0:\n",
    "        print(f\"Epoch {epoch}, Loss: {loss}\")"
   ]
  },
  {
   "cell_type": "code",
   "execution_count": 8,
   "metadata": {},
   "outputs": [
    {
     "data": {
      "text/plain": [
       "Value(data=5.014223727387785e-11, grad=0)"
      ]
     },
     "execution_count": 8,
     "metadata": {},
     "output_type": "execute_result"
    }
   ],
   "source": [
    "loss: Value = sum((expected_y - actual_y)**2 for expected_y, actual_y in zip(expected_ys, actual_ys))\n",
    "loss"
   ]
  },
  {
   "cell_type": "code",
   "execution_count": 9,
   "metadata": {},
   "outputs": [],
   "source": [
    "# Backward pass\n",
    "loss.backward()"
   ]
  },
  {
   "cell_type": "code",
   "execution_count": 10,
   "metadata": {},
   "outputs": [
    {
     "data": {
      "text/plain": [
       "Value(data=5.014223727387785e-11, grad=1.0)"
      ]
     },
     "execution_count": 10,
     "metadata": {},
     "output_type": "execute_result"
    }
   ],
   "source": [
    "for p in mlp.parameters():\n",
    "    p.data += -0.01 * p.grad\n",
    "loss"
   ]
  },
  {
   "cell_type": "code",
   "execution_count": 11,
   "metadata": {},
   "outputs": [
    {
     "name": "stdout",
     "output_type": "stream",
     "text": [
      "Value(data=5.014223727387785e-11, grad=1.0)\n"
     ]
    }
   ],
   "source": [
    "print(loss)"
   ]
  },
  {
   "cell_type": "code",
   "execution_count": 12,
   "metadata": {},
   "outputs": [],
   "source": [
    "# draw_dot(loss).view()"
   ]
  }
 ],
 "metadata": {
  "kernelspec": {
   "display_name": "Python 3",
   "language": "python",
   "name": "python3"
  },
  "language_info": {
   "codemirror_mode": {
    "name": "ipython",
    "version": 3
   },
   "file_extension": ".py",
   "mimetype": "text/x-python",
   "name": "python",
   "nbconvert_exporter": "python",
   "pygments_lexer": "ipython3",
   "version": "3.10.12"
  },
  "orig_nbformat": 4,
  "vscode": {
   "interpreter": {
    "hash": "e7370f93d1d0cde622a1f8e1c04877d8463912d04d973331ad4851f04de6915a"
   }
  }
 },
 "nbformat": 4,
 "nbformat_minor": 2
}
