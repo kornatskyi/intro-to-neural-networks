{
 "cells": [
  {
   "cell_type": "code",
   "execution_count": 1,
   "metadata": {},
   "outputs": [],
   "source": [
    "import sys\n",
    "\n",
    "sys.path.append(\"../../\")"
   ]
  },
  {
   "cell_type": "code",
   "execution_count": 2,
   "metadata": {},
   "outputs": [],
   "source": [
    "import numpy as np\n",
    "import matplotlib.pyplot as plt\n",
    "%matplotlib inline \n",
    "\n",
    "from src import Value\n",
    "from src import draw_dot, trace\n",
    "from src import MLP \n",
    "from sklearn.datasets import load_iris\n",
    "import random\n",
    "import numpy as np\n"
   ]
  },
  {
   "cell_type": "code",
   "execution_count": 3,
   "metadata": {},
   "outputs": [],
   "source": [
    "random.seed(42)"
   ]
  },
  {
   "cell_type": "code",
   "execution_count": 4,
   "metadata": {},
   "outputs": [],
   "source": [
    "xs = [\n",
    "    [2.0, 3.0, 1.0],\n",
    "    [-3.0, -1.0, 1.0],\n",
    "    [1.0, -1.0, 1.0],\n",
    "    [-2.0, -1.0,7.0]\n",
    "]\n",
    "\n",
    "expected_ys = [-1.0, -1.0, 1.0, -1.0]\n",
    "\n",
    "number_of_inputs = len(xs[0])\n",
    "number_of_outputs_for_each_layer = [4, 1]"
   ]
  },
  {
   "cell_type": "code",
   "execution_count": 5,
   "metadata": {},
   "outputs": [],
   "source": [
    "mlp = MLP(len(xs[0]), number_of_outputs_for_each_layer)"
   ]
  },
  {
   "cell_type": "code",
   "execution_count": 6,
   "metadata": {},
   "outputs": [
    {
     "name": "stdout",
     "output_type": "stream",
     "text": [
      "actual:  [Value(data=0.9362988799974199), Value(data=0.27654443001591267), Value(data=0.5358881842516409), Value(data=-0.2472456735072179)]\n",
      "loss:  Value(data=6.160857888054754)\n",
      "actual:  [Value(data=0.9311880068929766), Value(data=0.1335463666953279), Value(data=0.5462971170398283), Value(data=-0.3442405411775705)]\n",
      "loss:  Value(data=5.650281257256903)\n",
      "actual:  [Value(data=0.9263186798199976), Value(data=-0.012039998171551217), Value(data=0.5582445020717166), Value(data=-0.4240240697624885)]\n",
      "loss:  Value(data=5.21366481359916)\n",
      "actual:  [Value(data=0.9214226715970331), Value(data=-0.14738443932725157), Value(data=0.571820932568093), Value(data=-0.48883996875732416)]\n",
      "loss:  Value(data=4.863440268555256)\n",
      "actual:  [Value(data=0.916238606216025), Value(data=-0.2638526978111886), Value(data=0.5866225804746752), Value(data=-0.5415435093649232)]\n",
      "loss:  Value(data=4.594946491251446)\n",
      "actual:  [Value(data=0.9105717617420241), Value(data=-0.3590717736232166), Value(data=0.6019278788551683), Value(data=-0.5849278976467785)]\n",
      "loss:  Value(data=4.39181971191718)\n",
      "actual:  [Value(data=0.904282782372764), Value(data=-0.43500175263921176), Value(data=0.6170146327275462), Value(data=-0.621335048024216)]\n",
      "loss:  Value(data=4.2355808721617585)\n",
      "actual:  [Value(data=0.8972516992839472), Value(data=-0.49520272948268507), Value(data=0.6313532568178496), Value(data=-0.6525521825245366)]\n",
      "loss:  Value(data=4.111004701884825)\n",
      "actual:  [Value(data=0.8893489402797351), Value(data=-0.5431935009906633), Value(data=0.6446343555649691), Value(data=-0.6798824434383137)]\n",
      "loss:  Value(data=4.007071586937074)\n",
      "actual:  [Value(data=0.8804172241043114), Value(data=-0.5818664333604755), Value(data=0.6567169001168466), Value(data=-0.704264547783705)]\n",
      "loss:  Value(data=3.9161073606218184)\n"
     ]
    }
   ],
   "source": [
    "number_of_epoch = 10\n",
    "for i in range(number_of_epoch):\n",
    "    # Forward pass\n",
    "    actual_ys = [mlp(x)[0] for x in xs]\n",
    "    print(\"actual: \", actual_ys)\n",
    "    loss: Value = sum((expected_y - actual_y)**2 for expected_y, actual_y in zip(expected_ys, actual_ys))\n",
    "    loss\n",
    "    print(\"loss: \", loss)\n",
    "\n",
    "    # zero grad\n",
    "    for p in mlp.parameters():\n",
    "        p.grad = 0.0\n",
    "    # Backward pass\n",
    "    loss.backward()\n",
    "\n",
    "    # Correcting parameters\n",
    "    for p in mlp.parameters():\n",
    "        p.data += -0.01 * p.grad"
   ]
  },
  {
   "cell_type": "code",
   "execution_count": 7,
   "metadata": {},
   "outputs": [
    {
     "data": {
      "text/plain": [
       "Value(data=3.9161073606218184)"
      ]
     },
     "execution_count": 7,
     "metadata": {},
     "output_type": "execute_result"
    }
   ],
   "source": [
    "loss: Value = sum((expected_y - actual_y)**2 for expected_y, actual_y in zip(expected_ys, actual_ys))\n",
    "loss"
   ]
  },
  {
   "cell_type": "code",
   "execution_count": 8,
   "metadata": {},
   "outputs": [],
   "source": [
    "# Backward pass\n",
    "loss.backward()"
   ]
  },
  {
   "cell_type": "code",
   "execution_count": 9,
   "metadata": {},
   "outputs": [
    {
     "data": {
      "text/plain": [
       "Value(data=3.9161073606218184)"
      ]
     },
     "execution_count": 9,
     "metadata": {},
     "output_type": "execute_result"
    }
   ],
   "source": [
    "for p in mlp.parameters():\n",
    "    p.data += -0.01 * p.grad\n",
    "loss"
   ]
  },
  {
   "cell_type": "code",
   "execution_count": 10,
   "metadata": {},
   "outputs": [
    {
     "name": "stdout",
     "output_type": "stream",
     "text": [
      "Value(data=3.9161073606218184)\n"
     ]
    }
   ],
   "source": [
    "print(loss)"
   ]
  },
  {
   "cell_type": "code",
   "execution_count": 11,
   "metadata": {},
   "outputs": [
    {
     "data": {
      "text/plain": [
       "'Digraph.gv.svg'"
      ]
     },
     "execution_count": 11,
     "metadata": {},
     "output_type": "execute_result"
    },
    {
     "name": "stderr",
     "output_type": "stream",
     "text": [
      "libva info: VA-API version 1.14.0\n",
      "libva info: Trying to open /usr/lib/x86_64-linux-gnu/dri/iHD_drv_video.so\n",
      "libva info: Found init function __vaDriverInit_1_14\n",
      "libva info: va_openDriver() returns 0\n"
     ]
    }
   ],
   "source": [
    "draw_dot(loss).view()"
   ]
  }
 ],
 "metadata": {
  "kernelspec": {
   "display_name": "Python 3",
   "language": "python",
   "name": "python3"
  },
  "language_info": {
   "codemirror_mode": {
    "name": "ipython",
    "version": 3
   },
   "file_extension": ".py",
   "mimetype": "text/x-python",
   "name": "python",
   "nbconvert_exporter": "python",
   "pygments_lexer": "ipython3",
   "version": "3.10.12"
  },
  "orig_nbformat": 4,
  "vscode": {
   "interpreter": {
    "hash": "e7370f93d1d0cde622a1f8e1c04877d8463912d04d973331ad4851f04de6915a"
   }
  }
 },
 "nbformat": 4,
 "nbformat_minor": 2
}
