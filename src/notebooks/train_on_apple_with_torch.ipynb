{
 "cells": [
  {
   "cell_type": "code",
   "execution_count": 21,
   "metadata": {},
   "outputs": [],
   "source": [
    "import torch\n",
    "import torch.nn as nn\n",
    "import torch.optim as optim\n",
    "from sklearn.datasets import make_classification\n",
    "from sklearn.model_selection import train_test_split\n",
    "from sklearn.preprocessing import StandardScaler\n",
    "from torch.utils.data import DataLoader, TensorDataset\n",
    "import random\n",
    "import pandas as pd\n",
    "import numpy as np\n",
    "import matplotlib.pyplot as plt\n",
    "from sklearn.preprocessing import MinMaxScaler\n",
    "from sklearn.utils import shuffle\n"
   ]
  },
  {
   "cell_type": "code",
   "execution_count": 16,
   "metadata": {},
   "outputs": [],
   "source": [
    "RANDOM_STATE = 42\n",
    "random.seed(RANDOM_STATE)"
   ]
  },
  {
   "cell_type": "code",
   "execution_count": 51,
   "metadata": {},
   "outputs": [],
   "source": [
    "df = pd.read_csv(\"../../data/apple_quality.csv\")"
   ]
  },
  {
   "cell_type": "code",
   "execution_count": 52,
   "metadata": {},
   "outputs": [],
   "source": [
    "# prepare data\n",
    "df = df.sample(frac=0.2, random_state=RANDOM_STATE)  # get only fraction of the dataset\n",
    "df = df.dropna()  # remove rows that include NaNs\n",
    "df[\"Quality\"] = df[\"Quality\"].apply(\n",
    "    lambda x: 1 if x == \"good\" else 0\n",
    ")  # good -> 1; bad -> 0\n",
    "df = df.drop(columns=[\"A_id\"], errors=\"ignore\")\n",
    "df.loc[:, df.columns != \"Quality\"] = MinMaxScaler().fit_transform(\n",
    "    df.loc[:, df.columns != \"Quality\"]\n",
    ")  # normalize all but Quality column\n",
    "\n",
    "df[\"Acidity\"] = df[\"Acidity\"].astype(\"float64\")"
   ]
  },
  {
   "cell_type": "code",
   "execution_count": 74,
   "metadata": {},
   "outputs": [],
   "source": [
    "shuffled_df = shuffle(\n",
    "    list(zip(np.array(df.loc[:, df.columns != \"Quality\"]), np.array(df[\"Quality\"]))),\n",
    "    random_state=RANDOM_STATE,\n",
    ")\n",
    "X, y = [t[0] for t in shuffled_df],[t[1] for t in shuffled_df]\n",
    "\n",
    "training_data_percent = 0.80\n",
    "training_size = int(len(X) * training_data_percent)\n",
    "testing_size = len(X) - training_size\n",
    "X_train, y_train = np.array(X[:training_size]), np.array(y[:training_size])\n",
    "X_test, y_test = np.array(X[-testing_size:]), np.array(y[-testing_size:])"
   ]
  },
  {
   "cell_type": "code",
   "execution_count": 75,
   "metadata": {},
   "outputs": [
    {
     "data": {
      "text/plain": [
       "'Dataset, Model, Loss, and Optimizer are set up. Ready to proceed with training.'"
      ]
     },
     "execution_count": 75,
     "metadata": {},
     "output_type": "execute_result"
    }
   ],
   "source": [
    "# Scaling features\n",
    "scaler = StandardScaler()\n",
    "X_train_scaled = scaler.fit_transform(X_train)\n",
    "X_test_scaled = scaler.transform(X_test)\n",
    "\n",
    "# Convert to torch tensors\n",
    "X_train_torch = torch.FloatTensor(X_train_scaled)\n",
    "X_test_torch = torch.FloatTensor(X_test_scaled)\n",
    "y_train_torch = torch.LongTensor(y_train)\n",
    "y_test_torch = torch.LongTensor(y_test)\n",
    "\n",
    "# DataLoader\n",
    "train_dataset = TensorDataset(X_train_torch, y_train_torch)\n",
    "test_dataset = TensorDataset(X_test_torch, y_test_torch)\n",
    "train_loader = DataLoader(train_dataset, batch_size=64, shuffle=True)\n",
    "test_loader = DataLoader(test_dataset, batch_size=64, shuffle=False)\n",
    "\n",
    "# 2. Model Definition\n",
    "class BinaryClassificationModel(nn.Module):\n",
    "    def __init__(self):\n",
    "        super(BinaryClassificationModel, self).__init__()\n",
    "        self.layer1 = nn.Linear(7, 64)  # Input layer to hidden layer\n",
    "        self.relu = nn.ReLU()\n",
    "        self.layer2 = nn.Linear(64, 1)  # Hidden layer to output layer\n",
    "        self.sigmoid = nn.Sigmoid()\n",
    "        \n",
    "    def forward(self, x):\n",
    "        x = self.relu(self.layer1(x))\n",
    "        x = self.sigmoid(self.layer2(x))\n",
    "        return x\n",
    "\n",
    "model = BinaryClassificationModel()\n",
    "\n",
    "# 3. Loss Function and Optimizer\n",
    "criterion = nn.BCELoss()  # Binary Cross-Entropy Loss for binary classification\n",
    "optimizer = optim.Adam(model.parameters(), lr=0.001)\n",
    "\n",
    "# Confirm setup\n",
    "\"Dataset, Model, Loss, and Optimizer are set up. Ready to proceed with training.\"\n",
    "\n"
   ]
  },
  {
   "cell_type": "code",
   "execution_count": 76,
   "metadata": {},
   "outputs": [
    {
     "name": "stdout",
     "output_type": "stream",
     "text": [
      "Epoch 1/20, Loss: 0.7041\n",
      "Epoch 2/20, Loss: 0.6779\n",
      "Epoch 3/20, Loss: 0.6542\n",
      "Epoch 4/20, Loss: 0.6346\n",
      "Epoch 5/20, Loss: 0.6167\n",
      "Epoch 6/20, Loss: 0.6001\n",
      "Epoch 7/20, Loss: 0.5844\n",
      "Epoch 8/20, Loss: 0.5697\n",
      "Epoch 9/20, Loss: 0.5561\n",
      "Epoch 10/20, Loss: 0.5424\n",
      "Epoch 11/20, Loss: 0.5301\n",
      "Epoch 12/20, Loss: 0.5182\n",
      "Epoch 13/20, Loss: 0.5068\n",
      "Epoch 14/20, Loss: 0.4959\n",
      "Epoch 15/20, Loss: 0.4860\n",
      "Epoch 16/20, Loss: 0.4763\n",
      "Epoch 17/20, Loss: 0.4673\n",
      "Epoch 18/20, Loss: 0.4588\n",
      "Epoch 19/20, Loss: 0.4505\n",
      "Epoch 20/20, Loss: 0.4427\n"
     ]
    },
    {
     "data": {
      "text/plain": [
       "0.84375"
      ]
     },
     "execution_count": 76,
     "metadata": {},
     "output_type": "execute_result"
    }
   ],
   "source": [
    "# 4. Training Loop\n",
    "num_epochs = 20\n",
    "\n",
    "for epoch in range(num_epochs):\n",
    "    model.train()  # Set model to training mode\n",
    "    running_loss = 0.0\n",
    "    for inputs, labels in train_loader:\n",
    "        optimizer.zero_grad()  # Zero the parameter gradients\n",
    "        outputs = model(inputs)  # Forward pass\n",
    "        loss = criterion(outputs.squeeze(), labels.float())  # Calculate loss\n",
    "        loss.backward()  # Backward pass\n",
    "        optimizer.step()  # Optimize\n",
    "        running_loss += loss.item() * inputs.size(0)  # Update running loss\n",
    "        \n",
    "    epoch_loss = running_loss / len(train_loader.dataset)\n",
    "    print(f'Epoch {epoch+1}/{num_epochs}, Loss: {epoch_loss:.4f}')\n",
    "\n",
    "# 5. Evaluation\n",
    "model.eval()  # Set the model to evaluation mode\n",
    "total, correct = 0, 0\n",
    "with torch.no_grad():  # Inference mode, no need to calculate gradients\n",
    "    for inputs, labels in test_loader:\n",
    "        outputs = model(inputs)\n",
    "        predicted = (outputs.squeeze() > 0.5).long()  # Convert probabilities to binary output\n",
    "        total += labels.size(0)\n",
    "        correct += (predicted == labels).sum().item()\n",
    "\n",
    "accuracy = correct / total\n",
    "accuracy\n"
   ]
  },
  {
   "cell_type": "code",
   "execution_count": 80,
   "metadata": {},
   "outputs": [],
   "source": [
    "results = model(X_test_torch)"
   ]
  },
  {
   "cell_type": "code",
   "execution_count": 82,
   "metadata": {},
   "outputs": [
    {
     "data": {
      "image/png": "[encoded data removed]",
      "text/plain": [
       "<Figure size 640x480 with 1 Axes>"
      ]
     },
     "metadata": {},
     "output_type": "display_data"
    }
   ],
   "source": [
    "import matplotlib.pyplot as plt\n",
    "import numpy as np\n",
    "\n",
    "# Generate some data\n",
    "\n",
    "# Create a histogram\n",
    "plt.hist(y_test, bins=30, alpha=0.7, color='blue', edgecolor='black')\n",
    "plt.hist(results.detach().numpy(), bins=30, alpha=0.7, color='red', edgecolor='black')\n",
    "plt.title('Histogram of Numbers Distribution')\n",
    "plt.xlabel('Value')\n",
    "plt.ylabel('Frequency')\n",
    "plt.grid(axis='y', alpha=0.75)\n",
    "plt.show()\n"
   ]
  }
 ],
 "metadata": {
  "kernelspec": {
   "display_name": ".venv",
   "language": "python",
   "name": "python3"
  },
  "language_info": {
   "codemirror_mode": {
    "name": "ipython",
    "version": 3
   },
   "file_extension": ".py",
   "mimetype": "text/x-python",
   "name": "python",
   "nbconvert_exporter": "python",
   "pygments_lexer": "ipython3",
   "version": "3.10.12"
  }
 },
 "nbformat": 4,
 "nbformat_minor": 2
}
