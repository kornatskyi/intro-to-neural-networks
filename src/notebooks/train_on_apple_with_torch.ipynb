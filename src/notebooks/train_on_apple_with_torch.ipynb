{
 "cells": [
  {
   "cell_type": "code",
   "execution_count": 189,
   "metadata": {},
   "outputs": [],
   "source": [
    "import torch\n",
    "import torch.nn as nn\n",
    "import torch.optim as optim\n",
    "from sklearn.datasets import make_classification\n",
    "from sklearn.model_selection import train_test_split\n",
    "from sklearn.preprocessing import StandardScaler\n",
    "from torch.utils.data import DataLoader, TensorDataset\n",
    "import random\n",
    "import pandas as pd\n",
    "import numpy as np\n",
    "import matplotlib.pyplot as plt\n",
    "from sklearn.preprocessing import MinMaxScaler\n",
    "from sklearn.utils import shuffle\n"
   ]
  },
  {
   "cell_type": "code",
   "execution_count": 190,
   "metadata": {},
   "outputs": [],
   "source": [
    "RANDOM_STATE = 42\n",
    "random.seed(RANDOM_STATE)"
   ]
  },
  {
   "cell_type": "code",
   "execution_count": 191,
   "metadata": {},
   "outputs": [],
   "source": [
    "df = pd.read_csv(\"../../data/apple_quality.csv\")"
   ]
  },
  {
   "cell_type": "code",
   "execution_count": 192,
   "metadata": {},
   "outputs": [],
   "source": [
    "# prepare data\n",
    "df = df.sample(frac=0.2, random_state=RANDOM_STATE)  # get only fraction of the dataset\n",
    "df = df.dropna()  # remove rows that include NaNs\n",
    "df[\"Quality\"] = df[\"Quality\"].apply(\n",
    "    lambda x: 1 if x == \"good\" else 0\n",
    ")  # good -> 1; bad -> 0\n",
    "df = df.drop(columns=[\"A_id\"], errors=\"ignore\")\n",
    "df[\"Acidity\"] = df[\"Acidity\"].astype(\"float64\")"
   ]
  },
  {
   "cell_type": "code",
   "execution_count": 193,
   "metadata": {},
   "outputs": [],
   "source": [
    "shuffled_df = shuffle(\n",
    "    list(zip(np.array(df.loc[:, df.columns != \"Quality\"]), np.array(df[\"Quality\"]))),\n",
    "    random_state=RANDOM_STATE,\n",
    ")\n",
    "X, y = [t[0] for t in shuffled_df],[t[1] for t in shuffled_df]\n",
    "\n",
    "training_data_percent = 0.80\n",
    "training_size = int(len(X) * training_data_percent)\n",
    "testing_size = len(X) - training_size\n",
    "X_train, y_train = np.array(X[:training_size]), np.array(y[:training_size])\n",
    "X_test, y_test = np.array(X[-testing_size:]), np.array(y[-testing_size:])"
   ]
  },
  {
   "cell_type": "code",
   "execution_count": 194,
   "metadata": {},
   "outputs": [
    {
     "data": {
      "text/plain": [
       "'Dataset, Model, Loss, and Optimizer are set up. Ready to proceed with training.'"
      ]
     },
     "execution_count": 194,
     "metadata": {},
     "output_type": "execute_result"
    }
   ],
   "source": [
    "# Scaling features\n",
    "# should be done separately for training and testing data\n",
    "scaler = StandardScaler()\n",
    "X_train_scaled = scaler.fit_transform(X_train)\n",
    "X_test_scaled = scaler.transform(X_test)\n",
    "\n",
    "# Convert to torch tensors\n",
    "X_train_torch = torch.FloatTensor(X_train)\n",
    "X_test_torch = torch.FloatTensor(X_test)\n",
    "y_train_torch = torch.LongTensor(y_train)\n",
    "y_test_torch = torch.LongTensor(y_test)\n",
    "\n",
    "# DataLoader\n",
    "train_dataset = TensorDataset(X_train_torch, y_train_torch)\n",
    "test_dataset = TensorDataset(X_test_torch, y_test_torch)\n",
    "train_loader = DataLoader(train_dataset, batch_size=64, shuffle=True)\n",
    "test_loader = DataLoader(test_dataset, batch_size=64, shuffle=False)\n",
    "\n",
    "# 2. Model Definition\n",
    "class BinaryClassificationModel(nn.Module):\n",
    "    def __init__(self):\n",
    "        super(BinaryClassificationModel, self).__init__()\n",
    "        self.layer1 = nn.Linear(7, 64)  # Input layer to hidden layer\n",
    "        self.relu = nn.ReLU()\n",
    "        self.layer2 = nn.Linear(64, 1)  # Hidden layer to output layer\n",
    "        self.sigmoid = nn.Sigmoid()\n",
    "        \n",
    "    def forward(self, x):\n",
    "        x = self.relu(self.layer1(x))\n",
    "        x = self.sigmoid(self.layer2(x))\n",
    "        return x\n",
    "\n",
    "model = BinaryClassificationModel()\n",
    "\n",
    "# 3. Loss Function and Optimizer\n",
    "criterion = nn.BCELoss()  # Binary Cross-Entropy Loss for binary classification\n",
    "optimizer = optim.Adam(model.parameters(), lr=0.001)\n",
    "\n",
    "# Confirm setup\n",
    "\"Dataset, Model, Loss, and Optimizer are set up. Ready to proceed with training.\"\n",
    "\n"
   ]
  },
  {
   "cell_type": "code",
   "execution_count": 195,
   "metadata": {},
   "outputs": [
    {
     "name": "stdout",
     "output_type": "stream",
     "text": [
      "Epoch 1/100, Loss: 0.6813\n",
      "Epoch 2/100, Loss: 0.6448\n",
      "Epoch 3/100, Loss: 0.6142\n",
      "Epoch 4/100, Loss: 0.5884\n",
      "Epoch 5/100, Loss: 0.5636\n",
      "Epoch 6/100, Loss: 0.5423\n",
      "Epoch 7/100, Loss: 0.5233\n",
      "Epoch 8/100, Loss: 0.5064\n",
      "Epoch 9/100, Loss: 0.4907\n",
      "Epoch 10/100, Loss: 0.4774\n",
      "Epoch 11/100, Loss: 0.4644\n",
      "Epoch 12/100, Loss: 0.4534\n",
      "Epoch 13/100, Loss: 0.4429\n",
      "Epoch 14/100, Loss: 0.4337\n",
      "Epoch 15/100, Loss: 0.4243\n",
      "Epoch 16/100, Loss: 0.4168\n",
      "Epoch 17/100, Loss: 0.4092\n",
      "Epoch 18/100, Loss: 0.4021\n",
      "Epoch 19/100, Loss: 0.3962\n"
     ]
    },
    {
     "name": "stdout",
     "output_type": "stream",
     "text": [
      "Epoch 20/100, Loss: 0.3895\n",
      "Epoch 21/100, Loss: 0.3845\n",
      "Epoch 22/100, Loss: 0.3791\n",
      "Epoch 23/100, Loss: 0.3736\n",
      "Epoch 24/100, Loss: 0.3688\n",
      "Epoch 25/100, Loss: 0.3644\n",
      "Epoch 26/100, Loss: 0.3602\n",
      "Epoch 27/100, Loss: 0.3557\n",
      "Epoch 28/100, Loss: 0.3519\n",
      "Epoch 29/100, Loss: 0.3481\n",
      "Epoch 30/100, Loss: 0.3447\n",
      "Epoch 31/100, Loss: 0.3412\n",
      "Epoch 32/100, Loss: 0.3375\n",
      "Epoch 33/100, Loss: 0.3341\n",
      "Epoch 34/100, Loss: 0.3315\n",
      "Epoch 35/100, Loss: 0.3285\n",
      "Epoch 36/100, Loss: 0.3256\n",
      "Epoch 37/100, Loss: 0.3227\n",
      "Epoch 38/100, Loss: 0.3201\n",
      "Epoch 39/100, Loss: 0.3177\n",
      "Epoch 40/100, Loss: 0.3153\n",
      "Epoch 41/100, Loss: 0.3133\n",
      "Epoch 42/100, Loss: 0.3108\n",
      "Epoch 43/100, Loss: 0.3088\n",
      "Epoch 44/100, Loss: 0.3065\n",
      "Epoch 45/100, Loss: 0.3047\n",
      "Epoch 46/100, Loss: 0.3031\n",
      "Epoch 47/100, Loss: 0.3010\n",
      "Epoch 48/100, Loss: 0.2995\n",
      "Epoch 49/100, Loss: 0.2980\n",
      "Epoch 50/100, Loss: 0.2961\n",
      "Epoch 51/100, Loss: 0.2948\n",
      "Epoch 52/100, Loss: 0.2927\n",
      "Epoch 53/100, Loss: 0.2913\n",
      "Epoch 54/100, Loss: 0.2901\n",
      "Epoch 55/100, Loss: 0.2886\n",
      "Epoch 56/100, Loss: 0.2872\n",
      "Epoch 57/100, Loss: 0.2859\n",
      "Epoch 58/100, Loss: 0.2845\n",
      "Epoch 59/100, Loss: 0.2838\n",
      "Epoch 60/100, Loss: 0.2820\n",
      "Epoch 61/100, Loss: 0.2809\n",
      "Epoch 62/100, Loss: 0.2796\n",
      "Epoch 63/100, Loss: 0.2790\n",
      "Epoch 64/100, Loss: 0.2776\n",
      "Epoch 65/100, Loss: 0.2762\n",
      "Epoch 66/100, Loss: 0.2751\n",
      "Epoch 67/100, Loss: 0.2741\n",
      "Epoch 68/100, Loss: 0.2732\n",
      "Epoch 69/100, Loss: 0.2721\n",
      "Epoch 70/100, Loss: 0.2711\n",
      "Epoch 71/100, Loss: 0.2702\n",
      "Epoch 72/100, Loss: 0.2691\n",
      "Epoch 73/100, Loss: 0.2689\n",
      "Epoch 74/100, Loss: 0.2673\n",
      "Epoch 75/100, Loss: 0.2668\n",
      "Epoch 76/100, Loss: 0.2661\n",
      "Epoch 77/100, Loss: 0.2658\n",
      "Epoch 78/100, Loss: 0.2643\n",
      "Epoch 79/100, Loss: 0.2634\n",
      "Epoch 80/100, Loss: 0.2632\n",
      "Epoch 81/100, Loss: 0.2616\n",
      "Epoch 82/100, Loss: 0.2612\n",
      "Epoch 83/100, Loss: 0.2606\n",
      "Epoch 84/100, Loss: 0.2599\n",
      "Epoch 85/100, Loss: 0.2589\n",
      "Epoch 86/100, Loss: 0.2582\n",
      "Epoch 87/100, Loss: 0.2578\n",
      "Epoch 88/100, Loss: 0.2567\n",
      "Epoch 89/100, Loss: 0.2559\n",
      "Epoch 90/100, Loss: 0.2556\n",
      "Epoch 91/100, Loss: 0.2546\n",
      "Epoch 92/100, Loss: 0.2540\n",
      "Epoch 93/100, Loss: 0.2534\n",
      "Epoch 94/100, Loss: 0.2527\n",
      "Epoch 95/100, Loss: 0.2519\n",
      "Epoch 96/100, Loss: 0.2516\n",
      "Epoch 97/100, Loss: 0.2508\n",
      "Epoch 98/100, Loss: 0.2504\n",
      "Epoch 99/100, Loss: 0.2499\n",
      "Epoch 100/100, Loss: 0.2489\n"
     ]
    },
    {
     "data": {
      "text/plain": [
       "0.925"
      ]
     },
     "execution_count": 195,
     "metadata": {},
     "output_type": "execute_result"
    }
   ],
   "source": [
    "# 4. Training Loop\n",
    "num_epochs = 100\n",
    "\n",
    "for epoch in range(num_epochs):\n",
    "    model.train()  # Set model to training mode\n",
    "    running_loss = 0.0\n",
    "    for inputs, labels in train_loader:\n",
    "        optimizer.zero_grad()  # Zero the parameter gradients\n",
    "        outputs = model(inputs)  # Forward pass\n",
    "        loss = criterion(outputs.squeeze(), labels.float())  # Calculate loss\n",
    "        loss.backward()  # Backward pass\n",
    "        optimizer.step()  # Optimize\n",
    "        running_loss += loss.item() * inputs.size(0)  # Update running loss\n",
    "        \n",
    "    epoch_loss = running_loss / len(train_loader.dataset)\n",
    "    print(f'Epoch {epoch+1}/{num_epochs}, Loss: {epoch_loss:.4f}')\n",
    "\n",
    "# 5. Evaluation\n",
    "model.eval()  # Set the model to evaluation mode\n",
    "total, correct = 0, 0\n",
    "with torch.no_grad():  # Inference mode, no need to calculate gradients\n",
    "    for inputs, labels in test_loader:\n",
    "        outputs = model(inputs)\n",
    "        predicted = (outputs.squeeze() > 0.5).long()  # Convert probabilities to binary output\n",
    "        total += labels.size(0)\n",
    "        correct += (predicted == labels).sum().item()\n",
    "\n",
    "accuracy = correct / total\n",
    "accuracy\n"
   ]
  },
  {
   "cell_type": "code",
   "execution_count": 196,
   "metadata": {},
   "outputs": [],
   "source": [
    "results = model(X_test_torch)"
   ]
  },
  {
   "cell_type": "code",
   "execution_count": 197,
   "metadata": {},
   "outputs": [
    {
     "data": {
      "image/png": "[encoded data removed]",
      "text/plain": [
       "<Figure size 640x480 with 1 Axes>"
      ]
     },
     "metadata": {},
     "output_type": "display_data"
    }
   ],
   "source": [
    "import matplotlib.pyplot as plt\n",
    "import numpy as np\n",
    "\n",
    "# Generate some data\n",
    "\n",
    "# Create a histogram\n",
    "plt.hist(y_test, bins=30, alpha=0.7, color='blue', edgecolor='black')\n",
    "plt.hist(results.detach().numpy(), bins=30, alpha=0.7, color='red', edgecolor='black')\n",
    "plt.title('Histogram of Numbers Distribution')\n",
    "plt.xlabel('Value')\n",
    "plt.ylabel('Frequency')\n",
    "plt.grid(axis='y', alpha=0.75)\n",
    "plt.show()\n"
   ]
  }
 ],
 "metadata": {
  "kernelspec": {
   "display_name": ".venv",
   "language": "python",
   "name": "python3"
  },
  "language_info": {
   "codemirror_mode": {
    "name": "ipython",
    "version": 3
   },
   "file_extension": ".py",
   "mimetype": "text/x-python",
   "name": "python",
   "nbconvert_exporter": "python",
   "pygments_lexer": "ipython3",
   "version": "3.10.12"
  }
 },
 "nbformat": 4,
 "nbformat_minor": 2
}
